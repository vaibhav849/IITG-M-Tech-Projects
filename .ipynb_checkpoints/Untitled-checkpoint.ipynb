{
 "cells": [
  {
   "cell_type": "code",
   "execution_count": 2,
   "metadata": {},
   "outputs": [],
   "source": [
    "import random\n",
    "import sys\n",
    "\n",
    "#updated \n",
    "def unit_resolution(sentence, variable):\n",
    "    updated = []\n",
    "    for clause in sentence:\n",
    "        if variable in clause:\n",
    "            continue\n",
    "        if -variable in clause:\n",
    "            new_clause = []\n",
    "            for i in clause:\n",
    "                if i != -variable:\n",
    "                    new_clause.append(i)\n",
    "            if not new_clause:\n",
    "                return -1\n",
    "            updated.append(new_clause)\n",
    "        else:\n",
    "            updated.append(clause)\n",
    "    return updated"
   ]
  },
  {
   "cell_type": "code",
   "execution_count": 3,
   "metadata": {},
   "outputs": [],
   "source": [
    "#updated\n",
    "def counter_calculator(sentence):\n",
    "    counter = {}\n",
    "    for clause in sentence:\n",
    "        for literal in clause:\n",
    "            if abs(literal) in counter:\n",
    "                counter[abs(literal)] += 2 ** -len(clause)\n",
    "            else:\n",
    "                counter[abs(literal)] = 2 ** -len(clause)\n",
    "    return counter"
   ]
  },
  {
   "cell_type": "code",
   "execution_count": 4,
   "metadata": {},
   "outputs": [],
   "source": [
    "#updated\n",
    "def unit_propagation(sentence):\n",
    "    unit_clauses = []\n",
    "    unit_assignment = []\n",
    "    for clause in sentence:\n",
    "        if len(clause) == 1:\n",
    "            unit_clauses.append(clause)\n",
    "    while unit_clauses:\n",
    "        variable = unit_clauses[0]\n",
    "        sentence = unit_resolution(sentence, variable[0])\n",
    "        unit_assignment += [variable[0]]\n",
    "        if sentence == -1:\n",
    "            return -1, []\n",
    "        if not sentence:\n",
    "            return sentence, unit_assignment\n",
    "        unit_clauses = []\n",
    "        for clause in sentence:\n",
    "            if len(clause) == 1:\n",
    "                unit_clauses.append(clause)\n",
    "    return sentence, unit_assignment"
   ]
  },
  {
   "cell_type": "code",
   "execution_count": 5,
   "metadata": {},
   "outputs": [],
   "source": [
    "#updated\n",
    "def dpll(sentence, assignment):\n",
    "    sentence, unit_assignment = unit_propagation(sentence)\n",
    "    assignment = assignment + unit_assignment\n",
    "    if sentence == - 1:\n",
    "        return []\n",
    "    if not sentence:\n",
    "        return assignment\n",
    "    variable = jeroslow_wang_2_sided(sentence)\n",
    "    solution = dpll(unit_resolution(sentence, variable), assignment + [variable])\n",
    "    if not solution:\n",
    "        solution = dpll(unit_resolution(sentence, -variable), assignment + [-variable])\n",
    "    return solution"
   ]
  },
  {
   "cell_type": "code",
   "execution_count": 6,
   "metadata": {},
   "outputs": [],
   "source": [
    "#updated\n",
    "def jeroslow_wang_2_sided(sentence):\n",
    "    counter = counter_calculator(sentence)\n",
    "    return max(counter, key=counter.get)"
   ]
  },
  {
   "cell_type": "code",
   "execution_count": 7,
   "metadata": {},
   "outputs": [],
   "source": [
    "# Main\n",
    "def main():\n",
    "    input_file = input(\"Enter Input File: \")\n",
    "    sentence = []\n",
    "    for line in open(input_file):\n",
    "        if line.startswith('c'):\n",
    "            continue\n",
    "        if line.startswith('p'):\n",
    "            n_vars = int(line.split()[2])\n",
    "            continue\n",
    "        temp = line.split()\n",
    "        clause = []\n",
    "        for i in range(len(temp) - 1):\n",
    "            clause.append(int(temp[i]))\n",
    "        sentence.append(clause)\n",
    "    flag = False\n",
    "    for clause in sentence:\n",
    "        if len(clause) == 0:\n",
    "            flag = True  \n",
    "    output_file = input(\"Enter Output File: \")\n",
    "    f = open(output_file, \"w\")  \n",
    "    if flag:\n",
    "        f.write(\"UNSATISFIABLE\")\n",
    "        f.close()\n",
    "    else:\n",
    "        solution = dpll(sentence, [])\n",
    "        if solution:\n",
    "            solution.sort(key=abs)\n",
    "            f.write(\"SATISFIABLE\\nSolution\\n\")\n",
    "            for variable in solution:\n",
    "                if variable < 0:\n",
    "                    temp = -variable\n",
    "                    f.write(\"Variable \" + str(temp) + \" = False\\n\")\n",
    "                else:\n",
    "                    f.write(\"Variable \" + str(variable) + \" = True\\n\")\n",
    "        else:\n",
    "            f.write('UNSATISFIABLE\\n')\n"
   ]
  },
  {
   "cell_type": "code",
   "execution_count": 9,
   "metadata": {},
   "outputs": [
    {
     "name": "stdout",
     "output_type": "stream",
     "text": [
      "Enter Input File: sat.cnf\n",
      "Enter Output File: x.txt\n"
     ]
    }
   ],
   "source": [
    "if __name__ == '__main__':\n",
    "    main()"
   ]
  },
  {
   "cell_type": "code",
   "execution_count": null,
   "metadata": {},
   "outputs": [],
   "source": []
  }
 ],
 "metadata": {
  "kernelspec": {
   "display_name": "Python 3",
   "language": "python",
   "name": "python3"
  },
  "language_info": {
   "codemirror_mode": {
    "name": "ipython",
    "version": 3
   },
   "file_extension": ".py",
   "mimetype": "text/x-python",
   "name": "python",
   "nbconvert_exporter": "python",
   "pygments_lexer": "ipython3",
   "version": "3.8.2"
  }
 },
 "nbformat": 4,
 "nbformat_minor": 4
}
